version https://git-lfs.github.com/spec/v1
oid sha256:902be24c3e444f4ea2c82f43ba1a85f53640c68ab9acdeccc07ad0d78f5c83a2
size 2524895
