version https://git-lfs.github.com/spec/v1
oid sha256:dfc3d17ad264546a1030aff950caf790ea146363fe19a3da6489d842e4a85484
size 2920206
